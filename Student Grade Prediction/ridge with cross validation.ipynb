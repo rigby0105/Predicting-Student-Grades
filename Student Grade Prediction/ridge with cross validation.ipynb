{
 "cells": [
  {
   "cell_type": "code",
   "execution_count": 1,
   "id": "9ef83ea4",
   "metadata": {},
   "outputs": [],
   "source": [
    "import pandas as pd\n",
    "import matplotlib.pyplot as plt\n",
    "from sklearn.linear_model import RidgeClassifier\n",
    "from sklearn.model_selection import cross_val_predict\n",
    "from sklearn.model_selection import RepeatedKFold\n",
    "from sklearn.model_selection import train_test_split\n",
    "import sklearn.metrics as sklm\n",
    "import numpy as np\n",
    "import sklearn.model_selection as le_ms\n",
    "import sklearn.preprocessing as skpp"
   ]
  },
  {
   "cell_type": "code",
   "execution_count": 2,
   "id": "d854ea5d",
   "metadata": {},
   "outputs": [],
   "source": [
    "df = pd.read_csv('student-mat.csv')"
   ]
  },
  {
   "cell_type": "code",
   "execution_count": 3,
   "id": "2a633a5d",
   "metadata": {},
   "outputs": [],
   "source": [
    "data = df[[\"G1\", \"G2\", \"G3\", \"studytime\", \"failures\", \"absences\", \"sex\", \"internet\"]]"
   ]
  },
  {
   "cell_type": "code",
   "execution_count": 4,
   "id": "e13a70b9",
   "metadata": {},
   "outputs": [
    {
     "name": "stderr",
     "output_type": "stream",
     "text": [
      "C:\\Users\\roger\\AppData\\Local\\Temp\\ipykernel_12568\\30093586.py:1: SettingWithCopyWarning: \n",
      "A value is trying to be set on a copy of a slice from a DataFrame.\n",
      "Try using .loc[row_indexer,col_indexer] = value instead\n",
      "\n",
      "See the caveats in the documentation: https://pandas.pydata.org/pandas-docs/stable/user_guide/indexing.html#returning-a-view-versus-a-copy\n",
      "  data['G3_pass_fail'] = ((data['G3'] >= 10).replace({True: 1, False: 0}))\n",
      "C:\\Users\\roger\\AppData\\Local\\Temp\\ipykernel_12568\\30093586.py:2: SettingWithCopyWarning: \n",
      "A value is trying to be set on a copy of a slice from a DataFrame.\n",
      "Try using .loc[row_indexer,col_indexer] = value instead\n",
      "\n",
      "See the caveats in the documentation: https://pandas.pydata.org/pandas-docs/stable/user_guide/indexing.html#returning-a-view-versus-a-copy\n",
      "  data['sex'] = ((data['sex'] ==\"F\").replace({True: 1, False: 0}))\n",
      "C:\\Users\\roger\\AppData\\Local\\Temp\\ipykernel_12568\\30093586.py:3: SettingWithCopyWarning: \n",
      "A value is trying to be set on a copy of a slice from a DataFrame.\n",
      "Try using .loc[row_indexer,col_indexer] = value instead\n",
      "\n",
      "See the caveats in the documentation: https://pandas.pydata.org/pandas-docs/stable/user_guide/indexing.html#returning-a-view-versus-a-copy\n",
      "  data['internet'] = ((data['internet'] ==\"yes\").replace({True: 1, False: 0}))\n"
     ]
    },
    {
     "data": {
      "text/html": [
       "<div>\n",
       "<style scoped>\n",
       "    .dataframe tbody tr th:only-of-type {\n",
       "        vertical-align: middle;\n",
       "    }\n",
       "\n",
       "    .dataframe tbody tr th {\n",
       "        vertical-align: top;\n",
       "    }\n",
       "\n",
       "    .dataframe thead th {\n",
       "        text-align: right;\n",
       "    }\n",
       "</style>\n",
       "<table border=\"1\" class=\"dataframe\">\n",
       "  <thead>\n",
       "    <tr style=\"text-align: right;\">\n",
       "      <th></th>\n",
       "      <th>G1</th>\n",
       "      <th>G2</th>\n",
       "      <th>G3</th>\n",
       "      <th>studytime</th>\n",
       "      <th>failures</th>\n",
       "      <th>absences</th>\n",
       "      <th>sex</th>\n",
       "      <th>internet</th>\n",
       "      <th>G3_pass_fail</th>\n",
       "    </tr>\n",
       "  </thead>\n",
       "  <tbody>\n",
       "    <tr>\n",
       "      <th>0</th>\n",
       "      <td>5</td>\n",
       "      <td>6</td>\n",
       "      <td>6</td>\n",
       "      <td>2</td>\n",
       "      <td>0</td>\n",
       "      <td>6</td>\n",
       "      <td>1</td>\n",
       "      <td>0</td>\n",
       "      <td>0</td>\n",
       "    </tr>\n",
       "    <tr>\n",
       "      <th>1</th>\n",
       "      <td>5</td>\n",
       "      <td>5</td>\n",
       "      <td>6</td>\n",
       "      <td>2</td>\n",
       "      <td>0</td>\n",
       "      <td>4</td>\n",
       "      <td>1</td>\n",
       "      <td>1</td>\n",
       "      <td>0</td>\n",
       "    </tr>\n",
       "    <tr>\n",
       "      <th>2</th>\n",
       "      <td>7</td>\n",
       "      <td>8</td>\n",
       "      <td>10</td>\n",
       "      <td>2</td>\n",
       "      <td>3</td>\n",
       "      <td>10</td>\n",
       "      <td>1</td>\n",
       "      <td>1</td>\n",
       "      <td>1</td>\n",
       "    </tr>\n",
       "    <tr>\n",
       "      <th>3</th>\n",
       "      <td>15</td>\n",
       "      <td>14</td>\n",
       "      <td>15</td>\n",
       "      <td>3</td>\n",
       "      <td>0</td>\n",
       "      <td>2</td>\n",
       "      <td>1</td>\n",
       "      <td>1</td>\n",
       "      <td>1</td>\n",
       "    </tr>\n",
       "    <tr>\n",
       "      <th>4</th>\n",
       "      <td>6</td>\n",
       "      <td>10</td>\n",
       "      <td>10</td>\n",
       "      <td>2</td>\n",
       "      <td>0</td>\n",
       "      <td>4</td>\n",
       "      <td>1</td>\n",
       "      <td>0</td>\n",
       "      <td>1</td>\n",
       "    </tr>\n",
       "    <tr>\n",
       "      <th>...</th>\n",
       "      <td>...</td>\n",
       "      <td>...</td>\n",
       "      <td>...</td>\n",
       "      <td>...</td>\n",
       "      <td>...</td>\n",
       "      <td>...</td>\n",
       "      <td>...</td>\n",
       "      <td>...</td>\n",
       "      <td>...</td>\n",
       "    </tr>\n",
       "    <tr>\n",
       "      <th>390</th>\n",
       "      <td>9</td>\n",
       "      <td>9</td>\n",
       "      <td>9</td>\n",
       "      <td>2</td>\n",
       "      <td>2</td>\n",
       "      <td>11</td>\n",
       "      <td>0</td>\n",
       "      <td>0</td>\n",
       "      <td>0</td>\n",
       "    </tr>\n",
       "    <tr>\n",
       "      <th>391</th>\n",
       "      <td>14</td>\n",
       "      <td>16</td>\n",
       "      <td>16</td>\n",
       "      <td>1</td>\n",
       "      <td>0</td>\n",
       "      <td>3</td>\n",
       "      <td>0</td>\n",
       "      <td>1</td>\n",
       "      <td>1</td>\n",
       "    </tr>\n",
       "    <tr>\n",
       "      <th>392</th>\n",
       "      <td>10</td>\n",
       "      <td>8</td>\n",
       "      <td>7</td>\n",
       "      <td>1</td>\n",
       "      <td>3</td>\n",
       "      <td>3</td>\n",
       "      <td>0</td>\n",
       "      <td>0</td>\n",
       "      <td>0</td>\n",
       "    </tr>\n",
       "    <tr>\n",
       "      <th>393</th>\n",
       "      <td>11</td>\n",
       "      <td>12</td>\n",
       "      <td>10</td>\n",
       "      <td>1</td>\n",
       "      <td>0</td>\n",
       "      <td>0</td>\n",
       "      <td>0</td>\n",
       "      <td>1</td>\n",
       "      <td>1</td>\n",
       "    </tr>\n",
       "    <tr>\n",
       "      <th>394</th>\n",
       "      <td>8</td>\n",
       "      <td>9</td>\n",
       "      <td>9</td>\n",
       "      <td>1</td>\n",
       "      <td>0</td>\n",
       "      <td>5</td>\n",
       "      <td>0</td>\n",
       "      <td>1</td>\n",
       "      <td>0</td>\n",
       "    </tr>\n",
       "  </tbody>\n",
       "</table>\n",
       "<p>395 rows × 9 columns</p>\n",
       "</div>"
      ],
      "text/plain": [
       "     G1  G2  G3  studytime  failures  absences  sex  internet  G3_pass_fail\n",
       "0     5   6   6          2         0         6    1         0             0\n",
       "1     5   5   6          2         0         4    1         1             0\n",
       "2     7   8  10          2         3        10    1         1             1\n",
       "3    15  14  15          3         0         2    1         1             1\n",
       "4     6  10  10          2         0         4    1         0             1\n",
       "..   ..  ..  ..        ...       ...       ...  ...       ...           ...\n",
       "390   9   9   9          2         2        11    0         0             0\n",
       "391  14  16  16          1         0         3    0         1             1\n",
       "392  10   8   7          1         3         3    0         0             0\n",
       "393  11  12  10          1         0         0    0         1             1\n",
       "394   8   9   9          1         0         5    0         1             0\n",
       "\n",
       "[395 rows x 9 columns]"
      ]
     },
     "execution_count": 4,
     "metadata": {},
     "output_type": "execute_result"
    }
   ],
   "source": [
    "data['G3_pass_fail'] = ((data['G3'] >= 10).replace({True: 1, False: 0}))\n",
    "data['sex'] = ((data['sex'] ==\"F\").replace({True: 1, False: 0}))\n",
    "data['internet'] = ((data['internet'] ==\"yes\").replace({True: 1, False: 0}))\n",
    "data"
   ]
  },
  {
   "cell_type": "code",
   "execution_count": 5,
   "id": "febb7f17",
   "metadata": {},
   "outputs": [],
   "source": [
    "data = data.drop(columns = ['G3'])"
   ]
  },
  {
   "cell_type": "code",
   "execution_count": 6,
   "id": "1747ecf5",
   "metadata": {},
   "outputs": [],
   "source": [
    "X = data.drop(columns= ['G3_pass_fail']).copy() # make a copy of only the x variables\n",
    "y = data['G3_pass_fail'] # isolate the outcome (y variable)"
   ]
  },
  {
   "cell_type": "code",
   "execution_count": 7,
   "id": "6a50e6dd",
   "metadata": {},
   "outputs": [],
   "source": [
    "X_train, X_test, y_train, y_test = train_test_split(X, y, random_state=12345, train_size=0.8, stratify= y)\n",
    "\n",
    "columns = X_train.columns"
   ]
  },
  {
   "cell_type": "code",
   "execution_count": 8,
   "id": "b464f04b",
   "metadata": {},
   "outputs": [],
   "source": [
    "import hyperopt\n",
    "from hyperopt import fmin, tpe, hp, STATUS_OK, Trials, space_eval\n",
    "import hyperopt.hp as hpo "
   ]
  },
  {
   "cell_type": "code",
   "execution_count": 9,
   "id": "3e4afed9",
   "metadata": {},
   "outputs": [],
   "source": [
    "intercepts = [True, False]\n",
    "\n",
    "search_space = {\n",
    "    \"alpha\": hp.uniform(\"alpha\", 0, 10),\n",
    "    \"fit_intercept\": hp.choice(\"fit_intercept\", intercepts)\n",
    "}"
   ]
  },
  {
   "cell_type": "code",
   "execution_count": 10,
   "id": "3d940152",
   "metadata": {},
   "outputs": [],
   "source": [
    "# Regression\n",
    "def hyperparameter_tuning2(args):\n",
    "    model = RidgeClassifier(**args, random_state=12345)\n",
    "\n",
    "    model.fit(trainX, trainY)\n",
    "\n",
    "    pred = model.predict(testX)\n",
    "    AUC = sklm.roc_auc_score(testY, pred)\n",
    "    #print(AUC)\n",
    "    \n",
    "    return {'loss':-AUC, 'status': STATUS_OK, 'model': model}"
   ]
  },
  {
   "cell_type": "code",
   "execution_count": 11,
   "id": "cc6d4309",
   "metadata": {},
   "outputs": [],
   "source": [
    "X_train = X_train.to_numpy()\n",
    "y_train = y_train.to_numpy()"
   ]
  },
  {
   "cell_type": "code",
   "execution_count": 12,
   "id": "e0f7c8c2",
   "metadata": {},
   "outputs": [],
   "source": [
    "N_SPLITS = 10\n",
    "kfold = le_ms.StratifiedKFold(n_splits = N_SPLITS)\n",
    "\n",
    "# set vessel features\n",
    "\n",
    "#X = Xvess.copy()\n",
    "\n",
    "# find the best parameters\n",
    "# yPredictionArr2 = np.zeros(len(y_train))\n",
    "# yPredictionArr2[:] = -1"
   ]
  },
  {
   "cell_type": "code",
   "execution_count": 13,
   "id": "45ca22c1",
   "metadata": {},
   "outputs": [
    {
     "name": "stdout",
     "output_type": "stream",
     "text": [
      "100%|██████████| 100/100 [00:01<00:00, 59.33trial/s, best loss: -0.8045454545454546]\n",
      "{'alpha': 0.011497756877597354, 'fit_intercept': 0}\n",
      "-0.8045454545454546\n",
      "100%|██████████| 100/100 [00:01<00:00, 66.93trial/s, best loss: -0.9]             \n",
      "{'alpha': 4.097855394209517, 'fit_intercept': 0}\n",
      "-0.9\n",
      "100%|██████████| 100/100 [00:01<00:00, 62.94trial/s, best loss: -0.7705627705627704]\n",
      "{'alpha': 7.9509915423487385, 'fit_intercept': 0}\n",
      "-0.7705627705627704\n",
      "100%|██████████| 100/100 [00:01<00:00, 66.70trial/s, best loss: -0.9090909090909091]\n",
      "{'alpha': 5.866622793085306, 'fit_intercept': 0}\n",
      "-0.9090909090909091\n",
      "100%|██████████| 100/100 [00:01<00:00, 65.31trial/s, best loss: -0.9545454545454545]\n",
      "{'alpha': 0.09567356958146123, 'fit_intercept': 0}\n",
      "-0.9545454545454545\n",
      "100%|██████████| 100/100 [00:01<00:00, 67.66trial/s, best loss: -0.8614718614718614]\n",
      "{'alpha': 0.07471853020966868, 'fit_intercept': 0}\n",
      "-0.8614718614718614\n",
      "100%|██████████| 100/100 [00:01<00:00, 70.59trial/s, best loss: -0.9761904761904762]\n",
      "{'alpha': 0.15036124830686282, 'fit_intercept': 0}\n",
      "-0.9761904761904762\n",
      "100%|██████████| 100/100 [00:01<00:00, 64.20trial/s, best loss: -0.8761904761904762]\n",
      "{'alpha': 1.4877354374743057, 'fit_intercept': 0}\n",
      "-0.8761904761904762\n",
      "100%|██████████| 100/100 [00:01<00:00, 59.22trial/s, best loss: -0.9500000000000001]\n",
      "{'alpha': 1.4877354374743057, 'fit_intercept': 0}\n",
      "-0.9500000000000001\n",
      "100%|██████████| 100/100 [00:01<00:00, 50.95trial/s, best loss: -0.8261904761904761]\n",
      "{'alpha': 7.9509915423487385, 'fit_intercept': 0}\n",
      "-0.8261904761904761\n"
     ]
    }
   ],
   "source": [
    "alpha_list = []\n",
    "auc_list = []\n",
    "solver_list = []\n",
    "intercept_list = []\n",
    "np.random.seed(1234)\n",
    "for train_index, test_index in kfold.split(range(len(y_train)), y = y_train):\n",
    "    # split labels and feature matrix\n",
    "    trainX = X_train[train_index]\n",
    "    trainY = y_train[train_index]\n",
    "    testX = X_train[test_index]\n",
    "    testY = y_train[test_index]\n",
    "    rstate = np.random.default_rng(1234) # note that you must set this so that the fmin is reproducible\n",
    "    # run the algorithm\n",
    "    scaler = skpp.MinMaxScaler()\n",
    "    scaler.fit(trainX)\n",
    "    trainX = scaler.transform(trainX)\n",
    "    testX = scaler.transform(testX)\n",
    "    trials = Trials()\n",
    "    best = fmin(fn=hyperparameter_tuning2,\n",
    "            space=search_space,\n",
    "            algo=tpe.suggest,\n",
    "            max_evals=100,\n",
    "            trials=trials,\n",
    "            rstate=rstate)\n",
    "\n",
    "    print(best) # print the best parameter values\n",
    "    # extract the best model\n",
    "    best_loss = trials.best_trial['result']['loss'] \n",
    "    print(best_loss)\n",
    "    alpha_list.append(best['alpha'])\n",
    "    auc_list.append(best_loss)\n",
    "    #solver_list =best['solver'] \n",
    "    #solver_list.append(best['solver'])\n",
    "    intercept_list.append(best['fit_intercept'])"
   ]
  },
  {
   "cell_type": "code",
   "execution_count": 14,
   "id": "d744082d",
   "metadata": {},
   "outputs": [
    {
     "name": "stdout",
     "output_type": "stream",
     "text": [
      "[0, 0, 0, 0, 0, 0, 0, 0, 0, 0]\n"
     ]
    }
   ],
   "source": [
    "print(intercept_list)\n",
    "# print(solver_list)"
   ]
  },
  {
   "cell_type": "code",
   "execution_count": 15,
   "id": "5b5480b5",
   "metadata": {},
   "outputs": [
    {
     "name": "stdout",
     "output_type": "stream",
     "text": [
      "[0.011497756877597354, 4.097855394209517, 7.9509915423487385, 5.866622793085306, 0.09567356958146123, 0.07471853020966868, 0.15036124830686282, 1.4877354374743057, 1.4877354374743057, 7.9509915423487385]\n",
      "2.91741832519165\n"
     ]
    }
   ],
   "source": [
    "print(alpha_list)\n",
    "average_alpha = sum(alpha_list) / len(alpha_list)\n",
    "print(average_alpha)"
   ]
  },
  {
   "cell_type": "code",
   "execution_count": 16,
   "id": "55bec425",
   "metadata": {},
   "outputs": [
    {
     "name": "stdout",
     "output_type": "stream",
     "text": [
      "[0.8045454545454546, 0.9, 0.7705627705627704, 0.9090909090909091, 0.9545454545454545, 0.8614718614718614, 0.9761904761904762, 0.8761904761904762, 0.9500000000000001, 0.8261904761904761]\n"
     ]
    }
   ],
   "source": [
    "auc_list = [ -x for x in auc_list]\n",
    "print(auc_list)\n",
    "average_auc = sum(auc_list) / len(auc_list)"
   ]
  },
  {
   "cell_type": "code",
   "execution_count": 17,
   "id": "3fc55882",
   "metadata": {},
   "outputs": [
    {
     "name": "stdout",
     "output_type": "stream",
     "text": [
      "0.8828787878787878\n"
     ]
    }
   ],
   "source": [
    "print(average_auc)"
   ]
  },
  {
   "cell_type": "code",
   "execution_count": 18,
   "id": "4a6e4df4",
   "metadata": {},
   "outputs": [
    {
     "name": "stderr",
     "output_type": "stream",
     "text": [
      "c:\\Users\\roger\\AppData\\Local\\Programs\\Python\\Python310\\lib\\site-packages\\sklearn\\base.py:443: UserWarning: X has feature names, but MinMaxScaler was fitted without feature names\n",
      "  warnings.warn(\n"
     ]
    }
   ],
   "source": [
    "scaler = skpp.MinMaxScaler()\n",
    "scaler.fit(X_train)\n",
    "X_train = scaler.transform(X_train)\n",
    "X_test = scaler.transform(X_test)"
   ]
  },
  {
   "cell_type": "code",
   "execution_count": 19,
   "id": "710513b6",
   "metadata": {},
   "outputs": [
    {
     "name": "stdout",
     "output_type": "stream",
     "text": [
      "0.9140058055152395\n"
     ]
    }
   ],
   "source": [
    "model_final = RidgeClassifier(alpha= average_alpha, fit_intercept = True)\n",
    "\n",
    "model_final.fit(X_train, y_train)\n",
    "\n",
    "pred2 = model_final.predict(X_test)\n",
    "AUC = sklm.roc_auc_score(y_test, pred2)\n",
    "print(AUC)"
   ]
  },
  {
   "cell_type": "code",
   "execution_count": 20,
   "id": "fa3d10f2",
   "metadata": {},
   "outputs": [
    {
     "data": {
      "text/plain": [
       "Text(0.5, 0, 'Absolute Value of Coefficient')"
      ]
     },
     "execution_count": 20,
     "metadata": {},
     "output_type": "execute_result"
    },
    {
     "data": {
      "image/png": "[encoded data removed]",
      "text/plain": [
       "<Figure size 432x432 with 1 Axes>"
      ]
     },
     "metadata": {
      "needs_background": "light"
     },
     "output_type": "display_data"
    }
   ],
   "source": [
    "feature_importance = abs(model_final.coef_[0] )# get feature importances from model\n",
    "sorted_idx = np.argsort(feature_importance) # sort the feature importances\n",
    "fig = plt.figure(figsize=(6, 6)) # set figure size\n",
    "plt.barh(range(len(sorted_idx)), feature_importance[sorted_idx], align='center') # set up barchart\n",
    "plt.yticks(range(len(sorted_idx)), np.array(columns)[sorted_idx]) # add the feature names to the y-axis\n",
    "plt.title('Ridge Feature Importance') # give the plot a title\n",
    "plt.xlabel('Absolute Value of Coefficient')"
   ]
  }
 ],
 "metadata": {
  "kernelspec": {
   "display_name": "Python 3",
   "language": "python",
   "name": "python3"
  },
  "language_info": {
   "codemirror_mode": {
    "name": "ipython",
    "version": 3
   },
   "file_extension": ".py",
   "mimetype": "text/x-python",
   "name": "python",
   "nbconvert_exporter": "python",
   "pygments_lexer": "ipython3",
   "version": "3.10.5 (tags/v3.10.5:f377153, Jun  6 2022, 16:14:13) [MSC v.1929 64 bit (AMD64)]"
  },
  "vscode": {
   "interpreter": {
    "hash": "178b3e80c9db8f54e2acb31d91e54199a8837be0fdaa35cf7429bca94acf3364"
   }
  }
 },
 "nbformat": 4,
 "nbformat_minor": 5
}
